{
  "cells": [
    {
      "cell_type": "code",
      "source": [
        "# import python libraries\n",
        "\n",
        "import numpy as np\n",
        "import pandas as pd\n",
        "import matplotlib.pyplot as plt # visualizing data\n",
        "%matplotlib inline\n",
        "import seaborn as sns"
      ],
      "metadata": {
        "id": "fQhmyOSDgmEP"
      },
      "execution_count": 3,
      "outputs": []
    },
    {
      "cell_type": "code",
      "source": [
        "# import csv file\n",
        "df = pd.read_csv('Diwali Sales Data.csv', encoding= 'unicode_escape')"
      ],
      "metadata": {
        "id": "2KrcyW9yhOUr"
      },
      "execution_count": 6,
      "outputs": []
    },
    {
      "cell_type": "code",
      "source": [
        "df.shape"
      ],
      "metadata": {
        "id": "8v0IZdYghXM1",
        "outputId": "06145239-fade-4cf6-c710-b595b7932cea",
        "colab": {
          "base_uri": "https://localhost:8080/"
        }
      },
      "execution_count": 7,
      "outputs": [
        {
          "output_type": "execute_result",
          "data": {
            "text/plain": [
              "(11251, 15)"
            ]
          },
          "metadata": {},
          "execution_count": 7
        }
      ]
    },
    {
      "cell_type": "code",
      "source": [
        "df.head()"
      ],
      "metadata": {
        "id": "Ww4HARjghkb8"
      },
      "execution_count": null,
      "outputs": []
    },
    {
      "cell_type": "code",
      "source": [
        "df.info()"
      ],
      "metadata": {
        "id": "pV3Wau94hmoy"
      },
      "execution_count": null,
      "outputs": []
    },
    {
      "cell_type": "code",
      "source": [
        "#drop unrelated/blank columns\n",
        "df.drop(['Status', 'unnamed1'], axis=1, inplace=True)"
      ],
      "metadata": {
        "id": "sInQWhw3hpZ9"
      },
      "execution_count": null,
      "outputs": []
    },
    {
      "cell_type": "code",
      "source": [
        "#check for null values\n",
        "pd.isnull(df).sum()"
      ],
      "metadata": {
        "id": "6OfiijRqhs2O"
      },
      "execution_count": null,
      "outputs": []
    },
    {
      "cell_type": "code",
      "source": [
        "# drop null values\n",
        "df.dropna(inplace=True)"
      ],
      "metadata": {
        "id": "9QI4F0QahvO2"
      },
      "execution_count": null,
      "outputs": []
    },
    {
      "cell_type": "code",
      "source": [
        "# change data type\n",
        "df['Amount'] = df['Amount'].astype('int')"
      ],
      "metadata": {
        "id": "DBtGnJPFh-rj"
      },
      "execution_count": null,
      "outputs": []
    },
    {
      "cell_type": "code",
      "source": [
        "df['Amount'].dtypes"
      ],
      "metadata": {
        "id": "MLb9D_ulh_se"
      },
      "execution_count": null,
      "outputs": []
    },
    {
      "cell_type": "code",
      "source": [
        "df.columns"
      ],
      "metadata": {
        "id": "WOhO7VXEiBcL"
      },
      "execution_count": null,
      "outputs": []
    },
    {
      "cell_type": "code",
      "source": [
        "#rename column\n",
        "df.rename(columns= {'Marital_Status':'Shaadi'})"
      ],
      "metadata": {
        "id": "wJ5iYIi2iDRj"
      },
      "execution_count": null,
      "outputs": []
    },
    {
      "cell_type": "code",
      "source": [
        "# describe() method returns description of the data in the DataFrame (i.e. count, mean, std, etc)\n",
        "df.describe()"
      ],
      "metadata": {
        "id": "U1IJrc83iIBC"
      },
      "execution_count": null,
      "outputs": []
    },
    {
      "cell_type": "code",
      "source": [
        "# use describe() for specific columns\n",
        "df[['Age', 'Orders', 'Amount']].describe()"
      ],
      "metadata": {
        "id": "R4Tg2PeCiLTK"
      },
      "execution_count": null,
      "outputs": []
    },
    {
      "cell_type": "markdown",
      "source": [
        "# Exploratory Data Analysis"
      ],
      "metadata": {
        "id": "FthaSlkCiYNK"
      }
    },
    {
      "cell_type": "markdown",
      "source": [
        "Gender"
      ],
      "metadata": {
        "id": "JPiWhvvGibvt"
      }
    },
    {
      "cell_type": "code",
      "source": [
        "# plotting a bar chart for Gender and it's count\n",
        "\n",
        "ax = sns.countplot(x = 'Gender',data = df)\n",
        "\n",
        "for bars in ax.containers:\n",
        "    ax.bar_label(bars)"
      ],
      "metadata": {
        "id": "Z2hRrl28idls"
      },
      "execution_count": null,
      "outputs": []
    },
    {
      "cell_type": "code",
      "source": [
        "# plotting a bar chart for gender vs total amount\n",
        "\n",
        "sales_gen = df.groupby(['Gender'], as_index=False)['Amount'].sum().sort_values(by='Amount', ascending=False)\n",
        "\n",
        "sns.barplot(x = 'Gender',y= 'Amount' ,data = sales_gen)"
      ],
      "metadata": {
        "id": "39J-oNq2ihBL"
      },
      "execution_count": null,
      "outputs": []
    },
    {
      "cell_type": "markdown",
      "source": [
        "*From above graphs we can see that most of the buyers are females and even the purchasing power of females are greater than men*"
      ],
      "metadata": {
        "id": "xr-_5QpFip3G"
      }
    },
    {
      "cell_type": "markdown",
      "source": [
        "Age"
      ],
      "metadata": {
        "id": "lvC7sLV0istK"
      }
    },
    {
      "cell_type": "code",
      "source": [
        "ax = sns.countplot(data = df, x = 'Age Group', hue = 'Gender')\n",
        "\n",
        "for bars in ax.containers:\n",
        "    ax.bar_label(bars)"
      ],
      "metadata": {
        "id": "_I9DJD8tiuWi"
      },
      "execution_count": null,
      "outputs": []
    },
    {
      "cell_type": "code",
      "source": [
        "# Total Amount vs Age Group\n",
        "sales_age = df.groupby(['Age Group'], as_index=False)['Amount'].sum().sort_values(by='Amount', ascending=False)\n",
        "\n",
        "sns.barplot(x = 'Age Group',y= 'Amount' ,data = sales_age)"
      ],
      "metadata": {
        "id": "0YzsqDgHixiu"
      },
      "execution_count": null,
      "outputs": []
    },
    {
      "cell_type": "markdown",
      "source": [
        "*From above graphs we can see that most of the buyers are of age group between 26-35 yrs female*"
      ],
      "metadata": {
        "id": "AyT2o56ji1Lz"
      }
    },
    {
      "cell_type": "markdown",
      "source": [
        "State"
      ],
      "metadata": {
        "id": "STlOsG-7i4Mz"
      }
    },
    {
      "cell_type": "code",
      "source": [
        "# total number of orders from top 10 states\n",
        "\n",
        "sales_state = df.groupby(['State'], as_index=False)['Orders'].sum().sort_values(by='Orders', ascending=False).head(10)\n",
        "\n",
        "sns.set(rc={'figure.figsize':(15,5)})\n",
        "sns.barplot(data = sales_state, x = 'State',y= 'Orders')"
      ],
      "metadata": {
        "id": "Oxo_bkYLi5nd"
      },
      "execution_count": null,
      "outputs": []
    },
    {
      "cell_type": "code",
      "source": [
        "\n",
        "sales_state = df.groupby(['State'], as_index=False)['Amount'].sum().sort_values(by='Amount', ascending=False).head(10)\n",
        "\n",
        "sns.set(rc={'figure.figsize':(15,5)})\n",
        "sns.barplot(data = sales_state, x = 'State',y= 'Amount')"
      ],
      "metadata": {
        "id": "rAyys_hqjBKf"
      },
      "execution_count": null,
      "outputs": []
    },
    {
      "cell_type": "markdown",
      "source": [
        "*From above graphs we can see that most of the orders & total sales/amount are from Uttar Pradesh, Maharashtra and Karnataka respectively*\n"
      ],
      "metadata": {
        "id": "SjuukAMajFWx"
      }
    },
    {
      "cell_type": "markdown",
      "source": [
        "Marital Status"
      ],
      "metadata": {
        "id": "YidPIayjjH7G"
      }
    },
    {
      "cell_type": "code",
      "source": [
        "ax = sns.countplot(data = df, x = 'Marital_Status')\n",
        "\n",
        "sns.set(rc={'figure.figsize':(7,5)})\n",
        "for bars in ax.containers:\n",
        "    ax.bar_label(bars)"
      ],
      "metadata": {
        "id": "ODknH_pmjLwV"
      },
      "execution_count": null,
      "outputs": []
    },
    {
      "cell_type": "code",
      "source": [
        "sales_state = df.groupby(['Marital_Status', 'Gender'], as_index=False)['Amount'].sum().sort_values(by='Amount', ascending=False)\n",
        "\n",
        "sns.set(rc={'figure.figsize':(6,5)})\n",
        "sns.barplot(data = sales_state, x = 'Marital_Status',y= 'Amount', hue='Gender')"
      ],
      "metadata": {
        "id": "8v2alivhjXsE"
      },
      "execution_count": null,
      "outputs": []
    },
    {
      "cell_type": "markdown",
      "source": [
        "*From above graphs we can see that most of the buyers are married (women) and they have high purchasing power*"
      ],
      "metadata": {
        "id": "i2BF6QZZjcST"
      }
    },
    {
      "cell_type": "markdown",
      "source": [
        "Occupation"
      ],
      "metadata": {
        "id": "kWZX9YZJjeI4"
      }
    },
    {
      "cell_type": "code",
      "source": [
        "sns.set(rc={'figure.figsize':(20,5)})\n",
        "ax = sns.countplot(data = df, x = 'Occupation')\n",
        "\n",
        "for bars in ax.containers:\n",
        "    ax.bar_label(bars)"
      ],
      "metadata": {
        "id": "id3HXX4YjgKD"
      },
      "execution_count": null,
      "outputs": []
    },
    {
      "cell_type": "code",
      "source": [
        "sales_state = df.groupby(['Occupation'], as_index=False)['Amount'].sum().sort_values(by='Amount', ascending=False)\n",
        "\n",
        "sns.set(rc={'figure.figsize':(20,5)})\n",
        "sns.barplot(data = sales_state, x = 'Occupation',y= 'Amount')"
      ],
      "metadata": {
        "id": "EQeyzJ1ajhy_"
      },
      "execution_count": null,
      "outputs": []
    },
    {
      "cell_type": "markdown",
      "source": [
        "*From above graphs we can see that most of the buyers are working in IT, Healthcare and Aviation sector*"
      ],
      "metadata": {
        "id": "Obfu_gwrjlfu"
      }
    },
    {
      "cell_type": "markdown",
      "source": [
        "Product Category"
      ],
      "metadata": {
        "id": "tAVSgkOFjnRt"
      }
    },
    {
      "cell_type": "code",
      "source": [
        "sns.set(rc={'figure.figsize':(20,5)})\n",
        "ax = sns.countplot(data = df, x = 'Product_Category')\n",
        "\n",
        "for bars in ax.containers:\n",
        "    ax.bar_label(bars)"
      ],
      "metadata": {
        "id": "lMyusLD1jp35"
      },
      "execution_count": null,
      "outputs": []
    },
    {
      "cell_type": "code",
      "source": [
        "sales_state = df.groupby(['Product_Category'], as_index=False)['Amount'].sum().sort_values(by='Amount', ascending=False).head(10)\n",
        "\n",
        "sns.set(rc={'figure.figsize':(20,5)})\n",
        "sns.barplot(data = sales_state, x = 'Product_Category',y= 'Amount')"
      ],
      "metadata": {
        "id": "ScqTZdOyjtuc"
      },
      "execution_count": null,
      "outputs": []
    },
    {
      "cell_type": "markdown",
      "source": [
        "*From above graphs we can see that most of the sold products are from Food, Clothing and Electronics category*"
      ],
      "metadata": {
        "id": "Wk4MiTmujulu"
      }
    },
    {
      "cell_type": "code",
      "source": [
        "sales_state = df.groupby(['Product_ID'], as_index=False)['Orders'].sum().sort_values(by='Orders', ascending=False).head(10)\n",
        "\n",
        "sns.set(rc={'figure.figsize':(20,5)})\n",
        "sns.barplot(data = sales_state, x = 'Product_ID',y= 'Orders')"
      ],
      "metadata": {
        "id": "9PdgHB7Tjwht"
      },
      "execution_count": null,
      "outputs": []
    },
    {
      "cell_type": "code",
      "source": [
        "# top 10 most sold products (same thing as above)\n",
        "\n",
        "fig1, ax1 = plt.subplots(figsize=(12,7))\n",
        "df.groupby('Product_ID')['Orders'].sum().nlargest(10).sort_values(ascending=False).plot(kind='bar')"
      ],
      "metadata": {
        "id": "SxbAXVMtjza3"
      },
      "execution_count": null,
      "outputs": []
    },
    {
      "cell_type": "markdown",
      "source": [
        "## Conclusion:\n"
      ],
      "metadata": {
        "id": "V24v_XmKj3HN"
      }
    },
    {
      "cell_type": "markdown",
      "source": [
        "*Married women age group 26-35 yrs from UP,  Maharastra and Karnataka working in IT, Healthcare and Aviation are more likely to buy products from Food, Clothing and Electronics category*"
      ],
      "metadata": {
        "id": "66EoG9ZPj58_"
      }
    }
  ],
  "metadata": {
    "colab": {
      "name": "Welcome To Colab",
      "provenance": []
    },
    "kernelspec": {
      "display_name": "Python 3",
      "name": "python3"
    }
  },
  "nbformat": 4,
  "nbformat_minor": 0
}